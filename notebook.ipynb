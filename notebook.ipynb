{
 "cells": [
  {
   "cell_type": "markdown",
   "metadata": {},
   "source": [
    "# Time Series Anomaly Detection with LSTM Autoencoders "
   ]
  },
  {
   "cell_type": "markdown",
   "metadata": {},
   "source": [
    "The following steps will be followed to detect anomalies in Johnson & Johnson stock price data using an LSTM autoencoder:\n",
    "\n",
    "Train an LSTM autoencoder on the Johnson & Johnson’s stock price data from 1980 to 2021. We assume that there were no anomalies and they were normal.\n",
    "\n",
    "Using the LSTM autoencoder to reconstruct the error on the test data.\n",
    "\n",
    "If the reconstruction error for the test data is above the threshold, we label the data point as an anomaly."
   ]
  },
  {
   "cell_type": "code",
   "execution_count": 1,
   "metadata": {},
   "outputs": [],
   "source": [
    "from tensorflow import keras\n",
    "from sklearn.preprocessing import StandardScaler\n",
    "import numpy as np\n",
    "import pandas as pd\n",
    "import tensorflow as tf\n",
    "import matplotlib.pyplot as plt\n",
    "\n",
    "import plotly.graph_objects as go\n",
    "\n",
    "np.random.seed(1)\n",
    "tf.random.set_seed(1)\n",
    "\n",
    "from tensorflow.keras.models import Sequential\n",
    "from tensorflow.keras.layers import Dense, LSTM, Dropout, RepeatVector, TimeDistributed\n",
    "pd.options.mode.chained_assignment = None  # default='warn'\n"
   ]
  },
  {
   "cell_type": "code",
   "execution_count": 2,
   "metadata": {},
   "outputs": [
    {
     "name": "stdout",
     "output_type": "stream",
     "text": [
      "2.5.0\n"
     ]
    }
   ],
   "source": [
    "print(tf.__version__)"
   ]
  },
  {
   "cell_type": "code",
   "execution_count": 3,
   "metadata": {},
   "outputs": [
    {
     "data": {
      "text/html": [
       "<div>\n",
       "<style scoped>\n",
       "    .dataframe tbody tr th:only-of-type {\n",
       "        vertical-align: middle;\n",
       "    }\n",
       "\n",
       "    .dataframe tbody tr th {\n",
       "        vertical-align: top;\n",
       "    }\n",
       "\n",
       "    .dataframe thead th {\n",
       "        text-align: right;\n",
       "    }\n",
       "</style>\n",
       "<table border=\"1\" class=\"dataframe\">\n",
       "  <thead>\n",
       "    <tr style=\"text-align: right;\">\n",
       "      <th></th>\n",
       "      <th>Date</th>\n",
       "      <th>Open</th>\n",
       "      <th>High</th>\n",
       "      <th>Low</th>\n",
       "      <th>Close</th>\n",
       "      <th>Adj Close</th>\n",
       "      <th>Volume</th>\n",
       "    </tr>\n",
       "  </thead>\n",
       "  <tbody>\n",
       "    <tr>\n",
       "      <th>0</th>\n",
       "      <td>1995-01-03</td>\n",
       "      <td>13.656250</td>\n",
       "      <td>13.750000</td>\n",
       "      <td>13.437500</td>\n",
       "      <td>13.625000</td>\n",
       "      <td>7.373525</td>\n",
       "      <td>3628400</td>\n",
       "    </tr>\n",
       "    <tr>\n",
       "      <th>1</th>\n",
       "      <td>1995-01-04</td>\n",
       "      <td>13.500000</td>\n",
       "      <td>13.750000</td>\n",
       "      <td>13.500000</td>\n",
       "      <td>13.750000</td>\n",
       "      <td>7.441172</td>\n",
       "      <td>4161600</td>\n",
       "    </tr>\n",
       "    <tr>\n",
       "      <th>2</th>\n",
       "      <td>1995-01-05</td>\n",
       "      <td>13.718750</td>\n",
       "      <td>13.750000</td>\n",
       "      <td>13.625000</td>\n",
       "      <td>13.687500</td>\n",
       "      <td>7.407348</td>\n",
       "      <td>3164400</td>\n",
       "    </tr>\n",
       "    <tr>\n",
       "      <th>3</th>\n",
       "      <td>1995-01-06</td>\n",
       "      <td>13.625000</td>\n",
       "      <td>13.687500</td>\n",
       "      <td>13.562500</td>\n",
       "      <td>13.593750</td>\n",
       "      <td>7.356617</td>\n",
       "      <td>2118800</td>\n",
       "    </tr>\n",
       "    <tr>\n",
       "      <th>4</th>\n",
       "      <td>1995-01-09</td>\n",
       "      <td>13.531250</td>\n",
       "      <td>13.625000</td>\n",
       "      <td>13.406250</td>\n",
       "      <td>13.437500</td>\n",
       "      <td>7.272057</td>\n",
       "      <td>4505600</td>\n",
       "    </tr>\n",
       "    <tr>\n",
       "      <th>...</th>\n",
       "      <td>...</td>\n",
       "      <td>...</td>\n",
       "      <td>...</td>\n",
       "      <td>...</td>\n",
       "      <td>...</td>\n",
       "      <td>...</td>\n",
       "      <td>...</td>\n",
       "    </tr>\n",
       "    <tr>\n",
       "      <th>6634</th>\n",
       "      <td>2021-05-10</td>\n",
       "      <td>169.899994</td>\n",
       "      <td>171.529999</td>\n",
       "      <td>169.229996</td>\n",
       "      <td>170.270004</td>\n",
       "      <td>170.270004</td>\n",
       "      <td>8357500</td>\n",
       "    </tr>\n",
       "    <tr>\n",
       "      <th>6635</th>\n",
       "      <td>2021-05-11</td>\n",
       "      <td>170.649994</td>\n",
       "      <td>170.869995</td>\n",
       "      <td>168.279999</td>\n",
       "      <td>168.880005</td>\n",
       "      <td>168.880005</td>\n",
       "      <td>8217900</td>\n",
       "    </tr>\n",
       "    <tr>\n",
       "      <th>6636</th>\n",
       "      <td>2021-05-12</td>\n",
       "      <td>168.539993</td>\n",
       "      <td>169.800003</td>\n",
       "      <td>167.949997</td>\n",
       "      <td>168.199997</td>\n",
       "      <td>168.199997</td>\n",
       "      <td>6758300</td>\n",
       "    </tr>\n",
       "    <tr>\n",
       "      <th>6637</th>\n",
       "      <td>2021-05-13</td>\n",
       "      <td>166.970001</td>\n",
       "      <td>170.699997</td>\n",
       "      <td>166.970001</td>\n",
       "      <td>169.960007</td>\n",
       "      <td>169.960007</td>\n",
       "      <td>8018600</td>\n",
       "    </tr>\n",
       "    <tr>\n",
       "      <th>6638</th>\n",
       "      <td>2021-05-14</td>\n",
       "      <td>171.479996</td>\n",
       "      <td>171.610001</td>\n",
       "      <td>170.169998</td>\n",
       "      <td>170.220001</td>\n",
       "      <td>170.220001</td>\n",
       "      <td>5797700</td>\n",
       "    </tr>\n",
       "  </tbody>\n",
       "</table>\n",
       "<p>6639 rows × 7 columns</p>\n",
       "</div>"
      ],
      "text/plain": [
       "            Date        Open        High         Low       Close   Adj Close  \\\n",
       "0     1995-01-03   13.656250   13.750000   13.437500   13.625000    7.373525   \n",
       "1     1995-01-04   13.500000   13.750000   13.500000   13.750000    7.441172   \n",
       "2     1995-01-05   13.718750   13.750000   13.625000   13.687500    7.407348   \n",
       "3     1995-01-06   13.625000   13.687500   13.562500   13.593750    7.356617   \n",
       "4     1995-01-09   13.531250   13.625000   13.406250   13.437500    7.272057   \n",
       "...          ...         ...         ...         ...         ...         ...   \n",
       "6634  2021-05-10  169.899994  171.529999  169.229996  170.270004  170.270004   \n",
       "6635  2021-05-11  170.649994  170.869995  168.279999  168.880005  168.880005   \n",
       "6636  2021-05-12  168.539993  169.800003  167.949997  168.199997  168.199997   \n",
       "6637  2021-05-13  166.970001  170.699997  166.970001  169.960007  169.960007   \n",
       "6638  2021-05-14  171.479996  171.610001  170.169998  170.220001  170.220001   \n",
       "\n",
       "       Volume  \n",
       "0     3628400  \n",
       "1     4161600  \n",
       "2     3164400  \n",
       "3     2118800  \n",
       "4     4505600  \n",
       "...       ...  \n",
       "6634  8357500  \n",
       "6635  8217900  \n",
       "6636  6758300  \n",
       "6637  8018600  \n",
       "6638  5797700  \n",
       "\n",
       "[6639 rows x 7 columns]"
      ]
     },
     "execution_count": 3,
     "metadata": {},
     "output_type": "execute_result"
    }
   ],
   "source": [
    "df = pd.read_csv('JNJ_1995-2021.csv')\n",
    "df"
   ]
  },
  {
   "cell_type": "code",
   "execution_count": 4,
   "metadata": {},
   "outputs": [],
   "source": [
    "df = df[['Date', 'Close']]\n"
   ]
  },
  {
   "cell_type": "code",
   "execution_count": 5,
   "metadata": {},
   "outputs": [
    {
     "data": {
      "text/plain": [
       "(Timestamp('1995-01-03 00:00:00'), Timestamp('2021-05-14 00:00:00'))"
      ]
     },
     "execution_count": 5,
     "metadata": {},
     "output_type": "execute_result"
    }
   ],
   "source": [
    "df['Date'] = pd.to_datetime(df['Date'])\n",
    "df['Date'].min(), df['Date'].max()"
   ]
  },
  {
   "cell_type": "code",
   "execution_count": 6,
   "metadata": {},
   "outputs": [
    {
     "data": {
      "text/html": [
       "<div>\n",
       "<style scoped>\n",
       "    .dataframe tbody tr th:only-of-type {\n",
       "        vertical-align: middle;\n",
       "    }\n",
       "\n",
       "    .dataframe tbody tr th {\n",
       "        vertical-align: top;\n",
       "    }\n",
       "\n",
       "    .dataframe thead th {\n",
       "        text-align: right;\n",
       "    }\n",
       "</style>\n",
       "<table border=\"1\" class=\"dataframe\">\n",
       "  <thead>\n",
       "    <tr style=\"text-align: right;\">\n",
       "      <th></th>\n",
       "      <th>count</th>\n",
       "      <th>mean</th>\n",
       "      <th>std</th>\n",
       "      <th>min</th>\n",
       "      <th>25%</th>\n",
       "      <th>50%</th>\n",
       "      <th>75%</th>\n",
       "      <th>max</th>\n",
       "    </tr>\n",
       "  </thead>\n",
       "  <tbody>\n",
       "    <tr>\n",
       "      <th>Close</th>\n",
       "      <td>6639.0</td>\n",
       "      <td>73.103881</td>\n",
       "      <td>36.459676</td>\n",
       "      <td>13.4375</td>\n",
       "      <td>50.390625</td>\n",
       "      <td>62.91</td>\n",
       "      <td>99.834999</td>\n",
       "      <td>170.479996</td>\n",
       "    </tr>\n",
       "  </tbody>\n",
       "</table>\n",
       "</div>"
      ],
      "text/plain": [
       "        count       mean        std      min        25%    50%        75%  \\\n",
       "Close  6639.0  73.103881  36.459676  13.4375  50.390625  62.91  99.834999   \n",
       "\n",
       "              max  \n",
       "Close  170.479996  "
      ]
     },
     "execution_count": 6,
     "metadata": {},
     "output_type": "execute_result"
    }
   ],
   "source": [
    "df.describe().transpose()"
   ]
  },
  {
   "cell_type": "code",
   "execution_count": 7,
   "metadata": {},
   "outputs": [
    {
     "data": {
      "text/plain": [
       "<matplotlib.legend.Legend at 0x24fc13967f0>"
      ]
     },
     "execution_count": 7,
     "metadata": {},
     "output_type": "execute_result"
    },
    {
     "data": {
      "image/png": "[encoded data removed]",
      "text/plain": [
       "<Figure size 720x432 with 1 Axes>"
      ]
     },
     "metadata": {
      "needs_background": "light"
     },
     "output_type": "display_data"
    }
   ],
   "source": [
    "plt.rc('font', size=12)\n",
    "fig, ax = plt.subplots(figsize=(10, 6))\n",
    "\n",
    "# Specify how our lines should look\n",
    "ax.plot(df.Date, df.Close, color='tab:orange', label='Close Price')\n",
    "\n",
    "ax.set_xlabel('Date')\n",
    "ax.set_ylabel('Price')\n",
    "ax.set_title('Johnson and Johnson Stock Price 1980-2021:')\n",
    "ax.grid(True)\n",
    "ax.legend(loc='upper left')"
   ]
  },
  {
   "cell_type": "code",
   "execution_count": 8,
   "metadata": {},
   "outputs": [],
   "source": [
    "#df = df.reset_index()['Close']\n",
    "\n",
    "training_size=int(len(df)*0.85)\n",
    "test_size=len(df)-training_size\n",
    "train_data,test_data = df.loc[0:training_size], df.loc[training_size:len(df)]\n"
   ]
  },
  {
   "cell_type": "code",
   "execution_count": 9,
   "metadata": {},
   "outputs": [
    {
     "data": {
      "text/plain": [
       "((5644, 2), (996, 2))"
      ]
     },
     "execution_count": 9,
     "metadata": {},
     "output_type": "execute_result"
    }
   ],
   "source": [
    "train_data.shape, test_data.shape "
   ]
  },
  {
   "cell_type": "code",
   "execution_count": 10,
   "metadata": {},
   "outputs": [],
   "source": [
    "scaler = StandardScaler()\n",
    "scaler = scaler.fit(train_data[['Close']])\n",
    "\n",
    "train_data['Close'] = scaler.transform(train_data[['Close']])\n",
    "test_data['Close'] = scaler.transform(test_data[['Close']])"
   ]
  },
  {
   "cell_type": "code",
   "execution_count": 11,
   "metadata": {},
   "outputs": [
    {
     "data": {
      "text/plain": [
       "((5644, 2), (996, 2))"
      ]
     },
     "execution_count": 11,
     "metadata": {},
     "output_type": "execute_result"
    }
   ],
   "source": [
    "train_data.shape, test_data.shape "
   ]
  },
  {
   "cell_type": "code",
   "execution_count": 12,
   "metadata": {},
   "outputs": [],
   "source": [
    "TIME_STEPS=15\n",
    "\n",
    "def create_dataset(X, y, time_steps=TIME_STEPS):\n",
    "    Xs, ys = [], []\n",
    "    for i in range(len(X)-time_steps):\n",
    "        Xs.append(X.iloc[i:(i+time_steps)].values)\n",
    "        ys.append(y.iloc[i+time_steps])\n",
    "    \n",
    "    return np.array(Xs), np.array(ys)\n",
    "\n",
    "X_train, y_train = create_dataset(train_data[['Close']], train_data['Close'])\n",
    "X_test, y_test = create_dataset(test_data[['Close']], test_data['Close'])\n"
   ]
  },
  {
   "cell_type": "code",
   "execution_count": 13,
   "metadata": {},
   "outputs": [
    {
     "data": {
      "text/plain": [
       "((5629, 15, 1), (981, 15, 1))"
      ]
     },
     "execution_count": 13,
     "metadata": {},
     "output_type": "execute_result"
    }
   ],
   "source": [
    "X_train.shape, X_test.shape "
   ]
  },
  {
   "cell_type": "code",
   "execution_count": 14,
   "metadata": {},
   "outputs": [
    {
     "data": {
      "text/plain": [
       "((981, 15, 1), (981,))"
      ]
     },
     "execution_count": 14,
     "metadata": {},
     "output_type": "execute_result"
    }
   ],
   "source": [
    "X_test.shape, y_test.shape"
   ]
  },
  {
   "cell_type": "code",
   "execution_count": 31,
   "metadata": {},
   "outputs": [
    {
     "name": "stdout",
     "output_type": "stream",
     "text": [
      "Model: \"sequential_2\"\n",
      "_________________________________________________________________\n",
      "Layer (type)                 Output Shape              Param #   \n",
      "=================================================================\n",
      "lstm_4 (LSTM)                (None, 265)               283020    \n",
      "_________________________________________________________________\n",
      "dropout_4 (Dropout)          (None, 265)               0         \n",
      "_________________________________________________________________\n",
      "repeat_vector_2 (RepeatVecto (None, 15, 265)           0         \n",
      "_________________________________________________________________\n",
      "lstm_5 (LSTM)                (None, 15, 265)           562860    \n",
      "_________________________________________________________________\n",
      "dropout_5 (Dropout)          (None, 15, 265)           0         \n",
      "_________________________________________________________________\n",
      "time_distributed_2 (TimeDist (None, 15, 1)             266       \n",
      "=================================================================\n",
      "Total params: 846,146\n",
      "Trainable params: 846,146\n",
      "Non-trainable params: 0\n",
      "_________________________________________________________________\n"
     ]
    }
   ],
   "source": [
    "model = Sequential()\n",
    "model.add(LSTM(265, input_shape=(X_train.shape[1], X_train.shape[2])))\n",
    "model.add(Dropout(rate=0.2))\n",
    "model.add(RepeatVector(X_train.shape[1]))\n",
    "model.add(LSTM(265, return_sequences=True))\n",
    "model.add(Dropout(rate=0.2))\n",
    "model.add(TimeDistributed(Dense(X_train.shape[2])))\n",
    "\n",
    "opt = keras.optimizers.Adam(learning_rate=0.001)\n",
    "model.compile(loss='mae', optimizer=opt)\n",
    "\n",
    "model.summary()"
   ]
  },
  {
   "cell_type": "code",
   "execution_count": 32,
   "metadata": {},
   "outputs": [
    {
     "name": "stdout",
     "output_type": "stream",
     "text": [
      "Epoch 1/5\n",
      "159/159 [==============================] - 35s 177ms/step - loss: 0.1433 - val_loss: 0.1995\n",
      "Epoch 2/5\n",
      "159/159 [==============================] - 20s 125ms/step - loss: 0.0778 - val_loss: 0.1398\n",
      "Epoch 3/5\n",
      "159/159 [==============================] - 27s 172ms/step - loss: 0.0827 - val_loss: 0.1220\n",
      "Epoch 4/5\n",
      "159/159 [==============================] - 30s 187ms/step - loss: 0.0847 - val_loss: 0.1289\n",
      "Epoch 5/5\n",
      "159/159 [==============================] - 25s 155ms/step - loss: 0.0717 - val_loss: 0.0869\n"
     ]
    }
   ],
   "source": [
    "history = model.fit(X_train, y_train, \n",
    "                    epochs=5, \n",
    "                    batch_size=32,\n",
    "                    validation_split=0.1,\n",
    "                    callbacks=[keras.callbacks.EarlyStopping(monitor='val_loss', patience=8, mode='min')],\n",
    "                    use_multiprocessing=True,\n",
    "                    shuffle=False)"
   ]
  },
  {
   "cell_type": "code",
   "execution_count": 33,
   "metadata": {},
   "outputs": [
    {
     "data": {
      "image/png": "[encoded data removed]",
      "text/plain": [
       "<Figure size 432x288 with 1 Axes>"
      ]
     },
     "metadata": {
      "needs_background": "light"
     },
     "output_type": "display_data"
    }
   ],
   "source": [
    "import matplotlib.pyplot as plt\n",
    "\n",
    "plt.plot(history.history['loss'], label='Training loss')\n",
    "plt.plot(history.history['val_loss'], label='Validation loss')\n",
    "plt.legend();"
   ]
  },
  {
   "cell_type": "code",
   "execution_count": 34,
   "metadata": {},
   "outputs": [
    {
     "name": "stdout",
     "output_type": "stream",
     "text": [
      "31/31 [==============================] - 1s 38ms/step - loss: 0.3063\n"
     ]
    },
    {
     "data": {
      "text/plain": [
       "0.3063430190086365"
      ]
     },
     "execution_count": 34,
     "metadata": {},
     "output_type": "execute_result"
    }
   ],
   "source": [
    "model.evaluate(X_test, y_test)"
   ]
  },
  {
   "cell_type": "code",
   "execution_count": 35,
   "metadata": {},
   "outputs": [
    {
     "data": {
      "image/png": "[encoded data removed]",
      "text/plain": [
       "<Figure size 720x360 with 1 Axes>"
      ]
     },
     "metadata": {
      "needs_background": "light"
     },
     "output_type": "display_data"
    },
    {
     "name": "stdout",
     "output_type": "stream",
     "text": [
      "Reconstruction error threshold: 0.7619869615740215\n"
     ]
    }
   ],
   "source": [
    "import seaborn as sns \n",
    "train_pred = model.predict(X_train)\n",
    "train_loss = (np.mean(np.abs(train_pred - X_train), axis=1))\n",
    "\n",
    "\n",
    "plt.figure(figsize = (10,5))\n",
    "sns.histplot(train_loss, bins=50, kde=True);\n",
    "plt.xlabel(\"Train MAE loss\")\n",
    "plt.ylabel(\"No of samples\")\n",
    "plt.title('Distributuion of training loss')\n",
    "plt.show()\n",
    "\n",
    "\n",
    "threshold = np.max(train_loss)\n",
    "print(f'Reconstruction error threshold: {threshold}')"
   ]
  },
  {
   "cell_type": "code",
   "execution_count": 36,
   "metadata": {},
   "outputs": [
    {
     "data": {
      "image/png": "[encoded data removed]",
      "text/plain": [
       "<Figure size 720x360 with 1 Axes>"
      ]
     },
     "metadata": {
      "needs_background": "light"
     },
     "output_type": "display_data"
    }
   ],
   "source": [
    "test_pred = model.predict(X_test, verbose=0)\n",
    "test_loss = np.mean(np.abs(test_pred - X_test), axis=1)\n",
    "\n",
    "plt.figure(figsize = (10,5))\n",
    "sns.histplot(test_loss, bins=50, kde=True);\n",
    "plt.xlabel(\"Test MAE loss\")\n",
    "plt.ylabel(\"No of samples\")\n",
    "plt.title('Distributuion of Test loss')\n",
    "plt.show()\n",
    "\n"
   ]
  },
  {
   "cell_type": "code",
   "execution_count": 37,
   "metadata": {},
   "outputs": [],
   "source": [
    "test_score_df = pd.DataFrame(test_data[TIME_STEPS:])\n",
    "test_score_df['loss'] = test_loss\n",
    "test_score_df['threshold'] = threshold\n",
    "test_score_df['anomaly'] = test_score_df['loss'] > test_score_df['threshold']\n",
    "test_score_df['Close'] = test_data[TIME_STEPS:]['Close']\n",
    "\n"
   ]
  },
  {
   "cell_type": "code",
   "execution_count": 38,
   "metadata": {},
   "outputs": [
    {
     "data": {
      "text/html": [
       "<div>\n",
       "<style scoped>\n",
       "    .dataframe tbody tr th:only-of-type {\n",
       "        vertical-align: middle;\n",
       "    }\n",
       "\n",
       "    .dataframe tbody tr th {\n",
       "        vertical-align: top;\n",
       "    }\n",
       "\n",
       "    .dataframe thead th {\n",
       "        text-align: right;\n",
       "    }\n",
       "</style>\n",
       "<table border=\"1\" class=\"dataframe\">\n",
       "  <thead>\n",
       "    <tr style=\"text-align: right;\">\n",
       "      <th></th>\n",
       "      <th>Date</th>\n",
       "      <th>Close</th>\n",
       "      <th>loss</th>\n",
       "      <th>threshold</th>\n",
       "      <th>anomaly</th>\n",
       "    </tr>\n",
       "  </thead>\n",
       "  <tbody>\n",
       "    <tr>\n",
       "      <th>5658</th>\n",
       "      <td>2017-06-22</td>\n",
       "      <td>3.004365</td>\n",
       "      <td>0.699893</td>\n",
       "      <td>0.761987</td>\n",
       "      <td>False</td>\n",
       "    </tr>\n",
       "    <tr>\n",
       "      <th>5659</th>\n",
       "      <td>2017-06-23</td>\n",
       "      <td>3.019644</td>\n",
       "      <td>0.392851</td>\n",
       "      <td>0.761987</td>\n",
       "      <td>False</td>\n",
       "    </tr>\n",
       "    <tr>\n",
       "      <th>5660</th>\n",
       "      <td>2017-06-26</td>\n",
       "      <td>3.016026</td>\n",
       "      <td>0.409765</td>\n",
       "      <td>0.761987</td>\n",
       "      <td>False</td>\n",
       "    </tr>\n",
       "    <tr>\n",
       "      <th>5661</th>\n",
       "      <td>2017-06-27</td>\n",
       "      <td>2.962548</td>\n",
       "      <td>0.402922</td>\n",
       "      <td>0.761987</td>\n",
       "      <td>False</td>\n",
       "    </tr>\n",
       "    <tr>\n",
       "      <th>5662</th>\n",
       "      <td>2017-06-28</td>\n",
       "      <td>2.914699</td>\n",
       "      <td>0.348681</td>\n",
       "      <td>0.761987</td>\n",
       "      <td>False</td>\n",
       "    </tr>\n",
       "    <tr>\n",
       "      <th>...</th>\n",
       "      <td>...</td>\n",
       "      <td>...</td>\n",
       "      <td>...</td>\n",
       "      <td>...</td>\n",
       "      <td>...</td>\n",
       "    </tr>\n",
       "    <tr>\n",
       "      <th>6634</th>\n",
       "      <td>2021-05-10</td>\n",
       "      <td>4.380317</td>\n",
       "      <td>0.700170</td>\n",
       "      <td>0.761987</td>\n",
       "      <td>False</td>\n",
       "    </tr>\n",
       "    <tr>\n",
       "      <th>6635</th>\n",
       "      <td>2021-05-11</td>\n",
       "      <td>4.324426</td>\n",
       "      <td>0.742021</td>\n",
       "      <td>0.761987</td>\n",
       "      <td>False</td>\n",
       "    </tr>\n",
       "    <tr>\n",
       "      <th>6636</th>\n",
       "      <td>2021-05-12</td>\n",
       "      <td>4.297084</td>\n",
       "      <td>0.721442</td>\n",
       "      <td>0.761987</td>\n",
       "      <td>False</td>\n",
       "    </tr>\n",
       "    <tr>\n",
       "      <th>6637</th>\n",
       "      <td>2021-05-13</td>\n",
       "      <td>4.367852</td>\n",
       "      <td>0.673841</td>\n",
       "      <td>0.761987</td>\n",
       "      <td>False</td>\n",
       "    </tr>\n",
       "    <tr>\n",
       "      <th>6638</th>\n",
       "      <td>2021-05-14</td>\n",
       "      <td>4.378306</td>\n",
       "      <td>0.689488</td>\n",
       "      <td>0.761987</td>\n",
       "      <td>False</td>\n",
       "    </tr>\n",
       "  </tbody>\n",
       "</table>\n",
       "<p>981 rows × 5 columns</p>\n",
       "</div>"
      ],
      "text/plain": [
       "           Date     Close      loss  threshold  anomaly\n",
       "5658 2017-06-22  3.004365  0.699893   0.761987    False\n",
       "5659 2017-06-23  3.019644  0.392851   0.761987    False\n",
       "5660 2017-06-26  3.016026  0.409765   0.761987    False\n",
       "5661 2017-06-27  2.962548  0.402922   0.761987    False\n",
       "5662 2017-06-28  2.914699  0.348681   0.761987    False\n",
       "...         ...       ...       ...        ...      ...\n",
       "6634 2021-05-10  4.380317  0.700170   0.761987    False\n",
       "6635 2021-05-11  4.324426  0.742021   0.761987    False\n",
       "6636 2021-05-12  4.297084  0.721442   0.761987    False\n",
       "6637 2021-05-13  4.367852  0.673841   0.761987    False\n",
       "6638 2021-05-14  4.378306  0.689488   0.761987    False\n",
       "\n",
       "[981 rows x 5 columns]"
      ]
     },
     "execution_count": 38,
     "metadata": {},
     "output_type": "execute_result"
    }
   ],
   "source": [
    "test_score_df"
   ]
  },
  {
   "cell_type": "code",
   "execution_count": 39,
   "metadata": {},
   "outputs": [
    {
     "data": {
      "image/png": "[encoded data removed]",
      "text/plain": [
       "<Figure size 720x360 with 1 Axes>"
      ]
     },
     "metadata": {
      "needs_background": "light"
     },
     "output_type": "display_data"
    }
   ],
   "source": [
    "plt.figure(figsize = (10,5))\n",
    "plt.plot(test_score_df.index, test_score_df['loss'], color = 'green', label='loss')\n",
    "plt.plot(test_score_df.index, test_score_df['threshold'], color = 'r', label='threshold')\n",
    "plt.xticks(rotation=90)\n",
    "plt.legend();"
   ]
  },
  {
   "cell_type": "code",
   "execution_count": 40,
   "metadata": {},
   "outputs": [
    {
     "name": "stdout",
     "output_type": "stream",
     "text": [
      "(14, 6)\n"
     ]
    },
    {
     "data": {
      "text/html": [
       "<div>\n",
       "<style scoped>\n",
       "    .dataframe tbody tr th:only-of-type {\n",
       "        vertical-align: middle;\n",
       "    }\n",
       "\n",
       "    .dataframe tbody tr th {\n",
       "        vertical-align: top;\n",
       "    }\n",
       "\n",
       "    .dataframe thead th {\n",
       "        text-align: right;\n",
       "    }\n",
       "</style>\n",
       "<table border=\"1\" class=\"dataframe\">\n",
       "  <thead>\n",
       "    <tr style=\"text-align: right;\">\n",
       "      <th></th>\n",
       "      <th>Date</th>\n",
       "      <th>Close</th>\n",
       "      <th>loss</th>\n",
       "      <th>threshold</th>\n",
       "      <th>anomaly</th>\n",
       "      <th>inverse_price</th>\n",
       "    </tr>\n",
       "  </thead>\n",
       "  <tbody>\n",
       "    <tr>\n",
       "      <th>6362</th>\n",
       "      <td>2020-04-09</td>\n",
       "      <td>3.212648</td>\n",
       "      <td>0.866659</td>\n",
       "      <td>0.761987</td>\n",
       "      <td>True</td>\n",
       "      <td>141.229996</td>\n",
       "    </tr>\n",
       "    <tr>\n",
       "      <th>6363</th>\n",
       "      <td>2020-04-13</td>\n",
       "      <td>3.153943</td>\n",
       "      <td>0.849118</td>\n",
       "      <td>0.761987</td>\n",
       "      <td>True</td>\n",
       "      <td>139.770004</td>\n",
       "    </tr>\n",
       "    <tr>\n",
       "      <th>6365</th>\n",
       "      <td>2020-04-15</td>\n",
       "      <td>3.471192</td>\n",
       "      <td>0.792864</td>\n",
       "      <td>0.761987</td>\n",
       "      <td>True</td>\n",
       "      <td>147.660004</td>\n",
       "    </tr>\n",
       "    <tr>\n",
       "      <th>6366</th>\n",
       "      <td>2020-04-16</td>\n",
       "      <td>3.552011</td>\n",
       "      <td>0.860412</td>\n",
       "      <td>0.761987</td>\n",
       "      <td>True</td>\n",
       "      <td>149.669998</td>\n",
       "    </tr>\n",
       "    <tr>\n",
       "      <th>6367</th>\n",
       "      <td>2020-04-17</td>\n",
       "      <td>3.646503</td>\n",
       "      <td>0.902793</td>\n",
       "      <td>0.761987</td>\n",
       "      <td>True</td>\n",
       "      <td>152.020004</td>\n",
       "    </tr>\n",
       "    <tr>\n",
       "      <th>6368</th>\n",
       "      <td>2020-04-20</td>\n",
       "      <td>3.632429</td>\n",
       "      <td>0.954642</td>\n",
       "      <td>0.761987</td>\n",
       "      <td>True</td>\n",
       "      <td>151.669998</td>\n",
       "    </tr>\n",
       "    <tr>\n",
       "      <th>6369</th>\n",
       "      <td>2020-04-21</td>\n",
       "      <td>3.552413</td>\n",
       "      <td>0.911734</td>\n",
       "      <td>0.761987</td>\n",
       "      <td>True</td>\n",
       "      <td>149.679993</td>\n",
       "    </tr>\n",
       "    <tr>\n",
       "      <th>6370</th>\n",
       "      <td>2020-04-22</td>\n",
       "      <td>3.685506</td>\n",
       "      <td>0.797243</td>\n",
       "      <td>0.761987</td>\n",
       "      <td>True</td>\n",
       "      <td>152.990005</td>\n",
       "    </tr>\n",
       "    <tr>\n",
       "      <th>6371</th>\n",
       "      <td>2020-04-23</td>\n",
       "      <td>3.786832</td>\n",
       "      <td>0.792463</td>\n",
       "      <td>0.761987</td>\n",
       "      <td>True</td>\n",
       "      <td>155.509995</td>\n",
       "    </tr>\n",
       "    <tr>\n",
       "      <th>6372</th>\n",
       "      <td>2020-04-24</td>\n",
       "      <td>3.760696</td>\n",
       "      <td>0.837511</td>\n",
       "      <td>0.761987</td>\n",
       "      <td>True</td>\n",
       "      <td>154.860001</td>\n",
       "    </tr>\n",
       "    <tr>\n",
       "      <th>6373</th>\n",
       "      <td>2020-04-27</td>\n",
       "      <td>3.737777</td>\n",
       "      <td>0.816964</td>\n",
       "      <td>0.761987</td>\n",
       "      <td>True</td>\n",
       "      <td>154.289993</td>\n",
       "    </tr>\n",
       "    <tr>\n",
       "      <th>6563</th>\n",
       "      <td>2021-01-27</td>\n",
       "      <td>4.284217</td>\n",
       "      <td>0.881471</td>\n",
       "      <td>0.761987</td>\n",
       "      <td>True</td>\n",
       "      <td>167.880005</td>\n",
       "    </tr>\n",
       "    <tr>\n",
       "      <th>6564</th>\n",
       "      <td>2021-01-28</td>\n",
       "      <td>4.335685</td>\n",
       "      <td>0.868941</td>\n",
       "      <td>0.761987</td>\n",
       "      <td>True</td>\n",
       "      <td>169.160004</td>\n",
       "    </tr>\n",
       "    <tr>\n",
       "      <th>6565</th>\n",
       "      <td>2021-01-29</td>\n",
       "      <td>4.093225</td>\n",
       "      <td>0.854121</td>\n",
       "      <td>0.761987</td>\n",
       "      <td>True</td>\n",
       "      <td>163.130005</td>\n",
       "    </tr>\n",
       "  </tbody>\n",
       "</table>\n",
       "</div>"
      ],
      "text/plain": [
       "           Date     Close      loss  threshold  anomaly  inverse_price\n",
       "6362 2020-04-09  3.212648  0.866659   0.761987     True     141.229996\n",
       "6363 2020-04-13  3.153943  0.849118   0.761987     True     139.770004\n",
       "6365 2020-04-15  3.471192  0.792864   0.761987     True     147.660004\n",
       "6366 2020-04-16  3.552011  0.860412   0.761987     True     149.669998\n",
       "6367 2020-04-17  3.646503  0.902793   0.761987     True     152.020004\n",
       "6368 2020-04-20  3.632429  0.954642   0.761987     True     151.669998\n",
       "6369 2020-04-21  3.552413  0.911734   0.761987     True     149.679993\n",
       "6370 2020-04-22  3.685506  0.797243   0.761987     True     152.990005\n",
       "6371 2020-04-23  3.786832  0.792463   0.761987     True     155.509995\n",
       "6372 2020-04-24  3.760696  0.837511   0.761987     True     154.860001\n",
       "6373 2020-04-27  3.737777  0.816964   0.761987     True     154.289993\n",
       "6563 2021-01-27  4.284217  0.881471   0.761987     True     167.880005\n",
       "6564 2021-01-28  4.335685  0.868941   0.761987     True     169.160004\n",
       "6565 2021-01-29  4.093225  0.854121   0.761987     True     163.130005"
      ]
     },
     "execution_count": 40,
     "metadata": {},
     "output_type": "execute_result"
    }
   ],
   "source": [
    "anomalies = test_score_df[test_score_df['anomaly'] == True]\n",
    "\n",
    "x = pd.DataFrame(anomalies.Close)\n",
    "x = pd.DataFrame(scaler.inverse_transform(x))\n",
    "\n",
    "x.index = anomalies.index\n",
    "x.rename(columns = {0: 'inverse_price'}, inplace = True)\n",
    "\n",
    "anomalies = anomalies.join(x, how = 'left')\n",
    "print(anomalies.shape)\n",
    "anomalies"
   ]
  },
  {
   "cell_type": "code",
   "execution_count": 41,
   "metadata": {
    "scrolled": false
   },
   "outputs": [
    {
     "data": {
      "text/plain": [
       "<matplotlib.collections.PathCollection at 0x24fe42c53d0>"
      ]
     },
     "execution_count": 41,
     "metadata": {},
     "output_type": "execute_result"
    },
    {
     "data": {
      "image/png": "[encoded data removed]",
      "text/plain": [
       "<Figure size 720x432 with 1 Axes>"
      ]
     },
     "metadata": {
      "needs_background": "light"
     },
     "output_type": "display_data"
    }
   ],
   "source": [
    "fig, ax = plt.subplots(figsize=(10, 6))\n",
    "\n",
    "# Specify how our lines should look\n",
    "ax.plot(test_score_df['Date'], scaler.inverse_transform(test_score_df['Close']), color='tab:orange', label='Windspeed')\n",
    "ax.scatter(anomalies['Date'], scaler.inverse_transform(anomalies['Close']), marker='o' , linewidths=2)\n",
    "\n",
    "\n"
   ]
  },
  {
   "cell_type": "code",
   "execution_count": null,
   "metadata": {},
   "outputs": [],
   "source": []
  },
  {
   "cell_type": "code",
   "execution_count": null,
   "metadata": {},
   "outputs": [],
   "source": []
  },
  {
   "cell_type": "code",
   "execution_count": null,
   "metadata": {},
   "outputs": [],
   "source": []
  }
 ],
 "metadata": {
  "kernelspec": {
   "display_name": "Python 3",
   "language": "python",
   "name": "python3"
  },
  "language_info": {
   "codemirror_mode": {
    "name": "ipython",
    "version": 3
   },
   "file_extension": ".py",
   "mimetype": "text/x-python",
   "name": "python",
   "nbconvert_exporter": "python",
   "pygments_lexer": "ipython3",
   "version": "3.8.5"
  }
 },
 "nbformat": 4,
 "nbformat_minor": 4
}
